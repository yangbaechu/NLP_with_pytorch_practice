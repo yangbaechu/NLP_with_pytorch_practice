{
 "cells": [
  {
   "cell_type": "markdown",
   "metadata": {},
   "source": [
    "# pytorch란?"
   ]
  },
  {
   "cell_type": "code",
   "execution_count": 2,
   "metadata": {},
   "outputs": [],
   "source": [
    "from __future__ import print_function\n",
    "import torch"
   ]
  },
  {
   "cell_type": "code",
   "execution_count": 3,
   "metadata": {},
   "outputs": [
    {
     "name": "stdout",
     "output_type": "stream",
     "text": [
      "tensor([[0.9047, 0.1219, 0.7599],\n",
      "        [0.7001, 0.3432, 0.5298],\n",
      "        [0.9629, 0.2359, 0.4258],\n",
      "        [0.0836, 0.5833, 0.1934],\n",
      "        [0.5933, 0.1711, 0.6898]])\n"
     ]
    }
   ],
   "source": [
    "x = torch.rand(5,3)\n",
    "print(x)"
   ]
  },
  {
   "cell_type": "code",
   "execution_count": 5,
   "metadata": {},
   "outputs": [
    {
     "name": "stdout",
     "output_type": "stream",
     "text": [
      "tensor([[0, 0, 0],\n",
      "        [0, 0, 0],\n",
      "        [0, 0, 0],\n",
      "        [0, 0, 0],\n",
      "        [0, 0, 0]])\n"
     ]
    }
   ],
   "source": [
    "x = torch.zeros(5, 3, dtype = torch.long)\n",
    "print(x)"
   ]
  },
  {
   "cell_type": "code",
   "execution_count": 6,
   "metadata": {},
   "outputs": [
    {
     "name": "stdout",
     "output_type": "stream",
     "text": [
      "tensor([5.5000, 3.0000])\n"
     ]
    }
   ],
   "source": [
    "x = torch.tensor([5.5, 3])\n",
    "print(x)"
   ]
  },
  {
   "cell_type": "code",
   "execution_count": 8,
   "metadata": {},
   "outputs": [
    {
     "name": "stdout",
     "output_type": "stream",
     "text": [
      "tensor([[1., 1., 1.],\n",
      "        [1., 1., 1.],\n",
      "        [1., 1., 1.],\n",
      "        [1., 1., 1.],\n",
      "        [1., 1., 1.]], dtype=torch.float64)\n",
      "tensor([[-1.1525,  1.2158, -1.1348],\n",
      "        [ 0.6924,  0.2755,  0.3580],\n",
      "        [-0.9880,  0.5871, -1.4449],\n",
      "        [-0.9281,  1.6054, -0.0501],\n",
      "        [-0.1592, -0.3747, -0.2010]])\n"
     ]
    }
   ],
   "source": [
    "x = x.new_ones(5,3, dtype = torch.double)\n",
    "print(x)\n",
    "\n",
    "x = torch.randn_like(x, dtype=torch.float)\n",
    "print(x)"
   ]
  },
  {
   "cell_type": "code",
   "execution_count": 9,
   "metadata": {},
   "outputs": [
    {
     "name": "stdout",
     "output_type": "stream",
     "text": [
      "torch.Size([5, 3])\n"
     ]
    }
   ],
   "source": [
    "print(x.size())"
   ]
  },
  {
   "cell_type": "code",
   "execution_count": 12,
   "metadata": {},
   "outputs": [
    {
     "name": "stdout",
     "output_type": "stream",
     "text": [
      "tensor([[-1.0956,  1.4283, -0.4686],\n",
      "        [ 1.4630,  0.7000,  0.6247],\n",
      "        [-0.5530,  1.4643, -0.7297],\n",
      "        [-0.5079,  1.7719,  0.5132],\n",
      "        [ 0.2840,  0.3927,  0.0447]])\n"
     ]
    }
   ],
   "source": [
    "y = torch.rand(5, 3)\n",
    "print(x+y)"
   ]
  },
  {
   "cell_type": "code",
   "execution_count": 13,
   "metadata": {},
   "outputs": [
    {
     "name": "stdout",
     "output_type": "stream",
     "text": [
      "tensor([[-1.0956,  1.4283, -0.4686],\n",
      "        [ 1.4630,  0.7000,  0.6247],\n",
      "        [-0.5530,  1.4643, -0.7297],\n",
      "        [-0.5079,  1.7719,  0.5132],\n",
      "        [ 0.2840,  0.3927,  0.0447]])\n"
     ]
    }
   ],
   "source": [
    "print(torch.add(x,y))"
   ]
  },
  {
   "cell_type": "code",
   "execution_count": 14,
   "metadata": {},
   "outputs": [
    {
     "name": "stdout",
     "output_type": "stream",
     "text": [
      "tensor([[-1.0956,  1.4283, -0.4686],\n",
      "        [ 1.4630,  0.7000,  0.6247],\n",
      "        [-0.5530,  1.4643, -0.7297],\n",
      "        [-0.5079,  1.7719,  0.5132],\n",
      "        [ 0.2840,  0.3927,  0.0447]])\n"
     ]
    }
   ],
   "source": [
    "result = torch.zeros(5,3)\n",
    "torch.add(x, y, out = result)\n",
    "print(result)"
   ]
  },
  {
   "cell_type": "code",
   "execution_count": 15,
   "metadata": {},
   "outputs": [
    {
     "name": "stdout",
     "output_type": "stream",
     "text": [
      "tensor([[-1.0956,  1.4283, -0.4686],\n",
      "        [ 1.4630,  0.7000,  0.6247],\n",
      "        [-0.5530,  1.4643, -0.7297],\n",
      "        [-0.5079,  1.7719,  0.5132],\n",
      "        [ 0.2840,  0.3927,  0.0447]])\n"
     ]
    }
   ],
   "source": [
    "y.add_(x)\n",
    "print(y)"
   ]
  },
  {
   "cell_type": "code",
   "execution_count": 21,
   "metadata": {},
   "outputs": [
    {
     "name": "stdout",
     "output_type": "stream",
     "text": [
      "tensor([-1.1525,  1.2158, -1.1348])\n"
     ]
    }
   ],
   "source": [
    "print(x[0, :])"
   ]
  },
  {
   "cell_type": "code",
   "execution_count": 25,
   "metadata": {},
   "outputs": [
    {
     "name": "stdout",
     "output_type": "stream",
     "text": [
      "torch.Size([4, 4]) torch.Size([16]) torch.Size([8, 2])\n"
     ]
    }
   ],
   "source": [
    "x = torch.randn(4,4)\n",
    "y = x.view(16)\n",
    "z = x.view(-1, 2)\n",
    "print(x.size(), y.size(), z.size())"
   ]
  },
  {
   "cell_type": "code",
   "execution_count": 26,
   "metadata": {},
   "outputs": [
    {
     "name": "stdout",
     "output_type": "stream",
     "text": [
      "tensor([0.8349])\n",
      "0.8348803520202637\n"
     ]
    }
   ],
   "source": [
    "x = torch.randn(1)\n",
    "print(x)\n",
    "print(x.item())"
   ]
  },
  {
   "cell_type": "markdown",
   "metadata": {},
   "source": [
    "# autograd: 자동미분"
   ]
  },
  {
   "cell_type": "code",
   "execution_count": 37,
   "metadata": {},
   "outputs": [
    {
     "name": "stdout",
     "output_type": "stream",
     "text": [
      "tensor([[1., 1.],\n",
      "        [1., 1.]], requires_grad=True)\n"
     ]
    }
   ],
   "source": [
    "x = torch.ones(2, 2, requires_grad = True)\n",
    "print(x)"
   ]
  },
  {
   "cell_type": "code",
   "execution_count": 38,
   "metadata": {},
   "outputs": [
    {
     "name": "stdout",
     "output_type": "stream",
     "text": [
      "tensor([[3., 3.],\n",
      "        [3., 3.]], grad_fn=<AddBackward0>)\n"
     ]
    }
   ],
   "source": [
    "y = x + 2\n",
    "print(y)"
   ]
  },
  {
   "cell_type": "code",
   "execution_count": 39,
   "metadata": {},
   "outputs": [
    {
     "name": "stdout",
     "output_type": "stream",
     "text": [
      "<AddBackward0 object at 0x000002DA15DA78C8>\n"
     ]
    }
   ],
   "source": [
    "print(y.grad_fn)"
   ]
  },
  {
   "cell_type": "code",
   "execution_count": 40,
   "metadata": {
    "scrolled": true
   },
   "outputs": [
    {
     "name": "stdout",
     "output_type": "stream",
     "text": [
      "tensor([[27., 27.],\n",
      "        [27., 27.]], grad_fn=<MulBackward0>) tensor(27., grad_fn=<MeanBackward0>)\n"
     ]
    }
   ],
   "source": [
    "z = y*y*3\n",
    "out = z.mean()\n",
    "print(z, out)"
   ]
  },
  {
   "cell_type": "code",
   "execution_count": 41,
   "metadata": {
    "scrolled": true
   },
   "outputs": [
    {
     "name": "stdout",
     "output_type": "stream",
     "text": [
      "False\n",
      "True\n",
      "<SumBackward0 object at 0x000002DA15DAB148>\n"
     ]
    }
   ],
   "source": [
    "a = torch.randn(2,2)\n",
    "a = ((a*3)/(a-1))\n",
    "print(a.requires_grad)\n",
    "a.requires_grad_(True)\n",
    "print(a.requires_grad)\n",
    "b = (a*a).sum()\n",
    "print(b.grad_fn)"
   ]
  },
  {
   "cell_type": "markdown",
   "metadata": {},
   "source": [
    "## 변화도(gradient)"
   ]
  },
  {
   "cell_type": "code",
   "execution_count": 42,
   "metadata": {},
   "outputs": [
    {
     "name": "stdout",
     "output_type": "stream",
     "text": [
      "tensor([[4.5000, 4.5000],\n",
      "        [4.5000, 4.5000]])\n"
     ]
    }
   ],
   "source": [
    "out.backward()\n",
    "print(x.grad)"
   ]
  },
  {
   "cell_type": "code",
   "execution_count": 44,
   "metadata": {},
   "outputs": [
    {
     "name": "stdout",
     "output_type": "stream",
     "text": [
      "tensor([ 867.9766, -990.8374,  478.2767], grad_fn=<MulBackward0>)\n"
     ]
    }
   ],
   "source": [
    "x = torch.randn(3, requires_grad = True)\n",
    "\n",
    "y = x * 2\n",
    "while y.data.norm() < 1000:\n",
    "    y = y * 2\n",
    "    \n",
    "print(y)"
   ]
  },
  {
   "cell_type": "code",
   "execution_count": 45,
   "metadata": {},
   "outputs": [
    {
     "name": "stdout",
     "output_type": "stream",
     "text": [
      "tensor([1.0240e+02, 1.0240e+03, 1.0240e-01])\n"
     ]
    }
   ],
   "source": [
    "v = torch.tensor([0.1, 1.0, 0.0001], dtype = torch.float)\n",
    "y.backward(v)\n",
    "\n",
    "print(x.grad)"
   ]
  },
  {
   "cell_type": "code",
   "execution_count": 48,
   "metadata": {},
   "outputs": [
    {
     "name": "stdout",
     "output_type": "stream",
     "text": [
      "True\n",
      "True\n",
      "False\n"
     ]
    }
   ],
   "source": [
    "print(x.requires_grad)\n",
    "print((x**2).requires_grad)\n",
    "\n",
    "with torch.no_grad():\n",
    "    print((x ** 2).requires_grad)"
   ]
  },
  {
   "cell_type": "code",
   "execution_count": 49,
   "metadata": {},
   "outputs": [
    {
     "name": "stdout",
     "output_type": "stream",
     "text": [
      "True\n",
      "False\n",
      "tensor(True)\n"
     ]
    }
   ],
   "source": [
    "print(x.requires_grad)\n",
    "y = x.detach()\n",
    "print(y.requires_grad)\n",
    "print(x.eq(y).all())"
   ]
  },
  {
   "cell_type": "markdown",
   "metadata": {},
   "source": [
    "## 피드 포워드"
   ]
  },
  {
   "cell_type": "code",
   "execution_count": 3,
   "metadata": {},
   "outputs": [
    {
     "name": "stdout",
     "output_type": "stream",
     "text": [
      "tensor([[-2.3431e-04, -4.0029e-03, -1.5477e-02,  6.3356e-10, -2.0040e-02],\n",
      "        [-1.0813e-02, -4.0249e-03, -1.6042e-02,  5.8108e-10, -2.4017e-02],\n",
      "        [-2.1771e-05, -2.0660e-06,  3.4500e-05,  6.8743e-10, -1.6075e-02],\n",
      "        [-1.0809e-02, -2.1208e-06,  1.9637e-05,  6.3412e-10, -4.0505e-03],\n",
      "        [-5.5220e-06, -2.0658e-06,  3.4489e-05,  6.8743e-10, -1.2369e-05],\n",
      "        [-2.0957e-05, -4.0374e-03,  3.4144e-05,  6.3416e-10, -4.3152e-03],\n",
      "        [-1.0810e-02, -2.1141e-06, -3.0086e-04,  6.3412e-10, -2.0121e-02],\n",
      "        [-1.0710e-02, -4.0375e-03, -1.6051e-02,  5.8134e-10, -2.0302e-02],\n",
      "        [-1.0825e-02, -4.0400e-03, -1.6051e-02,  5.8082e-10, -2.4175e-02],\n",
      "        [-9.3682e-06, -2.0646e-06, -1.5961e-02,  6.8741e-10, -1.6110e-02],\n",
      "        [-1.0811e-02, -4.0380e-03,  1.7149e-05,  5.8084e-10, -2.4168e-02],\n",
      "        [-5.6717e-06, -2.0892e-06,  3.4292e-05,  6.8743e-10, -1.2448e-05],\n",
      "        [-1.0820e-02, -5.7330e-06, -1.6063e-02,  6.3410e-10, -2.0141e-02],\n",
      "        [-6.6196e-06, -4.0383e-03, -1.6039e-02,  6.3414e-10, -2.0138e-02],\n",
      "        [-1.0805e-02, -2.1431e-06,  1.5423e-05,  6.3414e-10, -2.0123e-02],\n",
      "        [-1.0821e-02, -2.4824e-06,  1.9450e-05,  6.3413e-10, -4.0497e-03]])\n"
     ]
    }
   ],
   "source": [
    "import torch\n",
    "\n",
    "def linear(x, W, b):\n",
    "    y  = torch.mm(x,W) + b\n",
    "    \n",
    "    return y\n",
    "\n",
    "x = torch.FloatTensor(16, 10)\n",
    "W = torch.FloatTensor(10, 5)\n",
    "b = torch.FloatTensor(5)\n",
    "    \n",
    "y = linear(x, W, b)\n",
    "print(y)"
   ]
  },
  {
   "cell_type": "markdown",
   "metadata": {},
   "source": [
    "## nn.Module"
   ]
  },
  {
   "cell_type": "code",
   "execution_count": 15,
   "metadata": {},
   "outputs": [
    {
     "name": "stdout",
     "output_type": "stream",
     "text": [
      "tensor([[-4.6437e+26, -1.3297e+27,  2.3952e+26, -9.8348e+26,  1.6913e+26],\n",
      "        [ 3.2593e+27, -3.3565e+27,  5.8095e+27, -9.4354e+27,  6.9115e+27],\n",
      "        [-2.8420e+26,  1.0367e+26,  6.2490e+24, -6.4245e+25,  3.2971e+26],\n",
      "        [ 5.9133e+31, -5.5106e+31,  9.6687e+31, -1.5700e+32,  1.1176e+32],\n",
      "        [-1.0514e+30,  4.1000e+29,  2.6834e+28, -2.4017e+29,  1.2376e+30],\n",
      "        [-1.8400e+28, -1.8313e+28, -7.5374e+27,  3.0099e+27, -3.5612e+27],\n",
      "        [-7.1068e+31,  2.2087e+31,  4.3907e+30, -1.4382e+31,  9.0411e+31],\n",
      "        [-9.9177e+29,  3.8186e+29,  2.7956e+28, -2.2997e+29,  1.1699e+30],\n",
      "        [-4.2771e+30, -4.3587e+30, -1.7082e+30,  7.4484e+29, -7.3751e+29],\n",
      "        [ 6.3681e+29,  1.7459e+30,  1.0038e+30,  1.6140e+30, -1.4203e+29],\n",
      "        [ 9.5310e+33,  2.6892e+33, -1.0282e+34, -1.0185e+34, -1.4059e+33],\n",
      "        [-1.7706e+31, -1.7622e+31, -7.2529e+30,  2.8962e+30, -3.4268e+30],\n",
      "        [-1.9627e+27, -2.0614e+28,  1.4071e+27, -2.2309e+28,  1.2786e+28],\n",
      "        [-4.1883e+27,  1.6126e+27,  1.1807e+26, -9.7117e+26,  4.9406e+27],\n",
      "        [ 3.2717e+30, -1.7456e+31,  1.0202e+31,  1.6140e+31,  2.0610e+31],\n",
      "        [ 6.2885e+34,  2.6382e+34,  9.2624e+34, -7.3579e+34,  6.2996e+34]],\n",
      "       grad_fn=<AddBackward0>)\n",
      "[torch.Size([10, 5]), torch.Size([5])]\n"
     ]
    }
   ],
   "source": [
    "import torch\n",
    "import torch.nn as nn\n",
    "\n",
    "##앞선 linear함수와 같은 기능을 수행하는 MyLinear 클래스 정의\n",
    "class MyLinear(nn.Module):\n",
    "    \n",
    "    def __init__(self, input_size, output_size):\n",
    "        super(MyLinear, self).__init__()\n",
    "        \n",
    "        self.W = nn.Parameter(torch.FloatTensor(input_size, output_size), requires_grad = True)\n",
    "        self.b = nn.Parameter(torch.FloatTensor(output_size), requires_grad = True)\n",
    "    \n",
    "    def forward(self, x):\n",
    "        y = torch.mm(x, self.W) + self.b\n",
    "        \n",
    "        return y\n",
    "\n",
    "##MyLinear 클래스 동작 확인\n",
    "x = torch.FloatTensor(16, 10)\n",
    "linear = MyLinear(10, 5)\n",
    "y = linear(x)\n",
    "print(y)\n",
    "\n",
    "params = [p.size() for p in linear.parameters()]\n",
    "print(params)"
   ]
  },
  {
   "cell_type": "markdown",
   "metadata": {},
   "source": [
    "더 간단한 버전"
   ]
  },
  {
   "cell_type": "code",
   "execution_count": 17,
   "metadata": {},
   "outputs": [
    {
     "name": "stdout",
     "output_type": "stream",
     "text": [
      "tensor([[ 3.0195e+18, -4.8288e+17, -4.6274e+18, -2.0047e+18, -2.3488e+18],\n",
      "        [ 3.0609e+02, -6.5847e+00,  7.1624e+01,  2.8257e+02, -5.4590e+01],\n",
      "        [ 2.3401e+02, -6.4590e+01,  7.7506e+00,  2.4540e+02, -3.5451e+01],\n",
      "        [ 2.5265e+02, -4.9844e+01,  7.6258e-01,  2.5193e+02, -4.8067e+01],\n",
      "        [ 3.0612e+02, -3.1937e+01,  2.3304e+01,  3.0251e+02, -6.3974e+01],\n",
      "        [-1.0855e+19, -1.0054e+19,  1.0857e+19, -6.5665e+18,  1.0358e+19],\n",
      "        [ 2.3401e+02, -6.4590e+01,  7.7506e+00,  2.4540e+02, -3.5451e+01],\n",
      "        [ 4.0604e+00, -1.2042e+00,  6.9646e-01,  3.3476e+00, -1.0011e+00],\n",
      "        [-8.6628e+18,  8.3133e+18, -1.1168e+19,  2.4422e+17,  6.4443e+18],\n",
      "        [ 2.3401e+02, -6.4590e+01,  7.7506e+00,  2.4540e+02, -3.5451e+01],\n",
      "        [ 7.8352e+18,  1.0537e+19, -6.2298e+18,  8.5712e+18, -8.0092e+18],\n",
      "        [ 3.0195e+18, -4.8288e+17, -4.6274e+18, -2.0047e+18, -2.3488e+18],\n",
      "        [ 3.0609e+02, -6.5847e+00,  7.1624e+01,  2.8257e+02, -5.4590e+01],\n",
      "        [ 2.8725e+02, -5.9809e+01,  5.1012e+01,  2.3541e+02, -3.0622e+01],\n",
      "        [ 3.0609e+02, -6.5847e+00,  7.1624e+01,  2.8257e+02, -5.4590e+01],\n",
      "        [ 2.3401e+02, -6.4590e+01,  7.7506e+00,  2.4540e+02, -3.5451e+01]],\n",
      "       grad_fn=<AddmmBackward>)\n"
     ]
    }
   ],
   "source": [
    "import torch\n",
    "import torch.nn as nn\n",
    "\n",
    "##앞선 linear함수와 같은 기능을 수행하는 MyLinear 클래스 정의\n",
    "class MyLinear(nn.Module): #nn.Module을 상속받은 클래스\n",
    "    \n",
    "    def __init__(self, input_size, output_size):\n",
    "        super(MyLinear, self).__init__()\n",
    "        ##nn.Module의 자식 클래스를 맴버 변수로 가짐\n",
    "        self.linear = nn.Linear(input_size, output_size)\n",
    "    \n",
    "    def forward(self, x):\n",
    "        y = self.linear(x)\n",
    "        \n",
    "        return y\n",
    "\n",
    "##MyLinear 클래스 동작 확인\n",
    "x = torch.FloatTensor(16, 10)\n",
    "linear = MyLinear(10, 5)\n",
    "y = linear(x)\n",
    "print(y)"
   ]
  },
  {
   "cell_type": "markdown",
   "metadata": {},
   "source": [
    "## 역전파 수행"
   ]
  },
  {
   "cell_type": "code",
   "execution_count": 24,
   "metadata": {},
   "outputs": [
    {
     "name": "stdout",
     "output_type": "stream",
     "text": [
      "tensor(-1.7433e+35, grad_fn=<MulBackward0>)\n"
     ]
    }
   ],
   "source": [
    "objective = 100\n",
    "\n",
    "x = torch.FloatTensor(16, 10)\n",
    "linear = MyLinear(10, 5)\n",
    "y = linear(x)\n",
    "loss = (objective - y.sum())*2\n",
    "\n",
    "loss.backward()\n",
    "print(loss)"
   ]
  },
  {
   "cell_type": "markdown",
   "metadata": {},
   "source": [
    "## train()과 eval()"
   ]
  },
  {
   "cell_type": "code",
   "execution_count": 25,
   "metadata": {},
   "outputs": [
    {
     "data": {
      "text/plain": [
       "MyLinear(\n",
       "  (linear): Linear(in_features=10, out_features=5, bias=True)\n",
       ")"
      ]
     },
     "execution_count": 25,
     "metadata": {},
     "output_type": "execute_result"
    }
   ],
   "source": [
    "##학습 모드 -> 추론 모드\n",
    "linear.eval()\n",
    "\n",
    "##추론 모드 -> 학습 모드\n",
    "linear.train()"
   ]
  },
  {
   "cell_type": "markdown",
   "metadata": {},
   "source": [
    "## 선형회귀분석 예제"
   ]
  },
  {
   "cell_type": "markdown",
   "metadata": {},
   "source": [
    "1. 임의로 생성한 텐서들을\n",
    "2. 근사하고자 하는 정답 함수에 넣어 정답(y)를 구하고\n",
    "3. 그 정답고 신경망을 통과한 y'과의 차이를 평균제곱오차(MSE)를 통해 구하여\n",
    "4. 확률적 경사하강법(SGD)를 통해 최적화하기"
   ]
  },
  {
   "cell_type": "code",
   "execution_count": 34,
   "metadata": {},
   "outputs": [],
   "source": [
    "## 1개의 선형 계층을 가진 My Model 모듈 생성\n",
    "import random\n",
    "\n",
    "import torch\n",
    "import torch.nn as nn\n",
    "\n",
    "class MyModel(nn.Module):\n",
    "    \n",
    "    def __init__(self, input_size, output_size):\n",
    "        super(MyModel, self).__init__()\n",
    "        \n",
    "        self.linear = nn.Linear(input_size, output_size)\n",
    "    \n",
    "    def forward(self, x):\n",
    "        y = self.linear(x)\n",
    "        \n",
    "        return y\n",
    "\n",
    "## 손실함수를 최소로 만드는 파라미터를 찾는 함수\n",
    "def ground_truth(x):\n",
    "    return 3 * x[:, 0] + x[:, 1] - 2 * x[:, 2]\n",
    "\n",
    "## 순전파, 역전파를 이용해 신경망을 학습시키는 함수\n",
    "def train(model, x, y, optim):\n",
    "    \n",
    "    optim.zero_grad()\n",
    "    \n",
    "    #순전파\n",
    "    y_hat = model(x)\n",
    "    \n",
    "    #추론과 실제 값의 오차 구하기\n",
    "    loss = ((y - y_hat)**2).sum()/x.size(0)\n",
    "    \n",
    "    #역전파\n",
    "    loss.backward()\n",
    "    \n",
    "    #경사하강법 1회\n",
    "    optim.step()\n",
    "    \n",
    "    return loss.data\n"
   ]
  },
  {
   "cell_type": "markdown",
   "metadata": {},
   "source": [
    "하이퍼파라미터 설정하기"
   ]
  },
  {
   "cell_type": "code",
   "execution_count": 35,
   "metadata": {},
   "outputs": [
    {
     "name": "stdout",
     "output_type": "stream",
     "text": [
      "MyModel(\n",
      "  (linear): Linear(in_features=3, out_features=1, bias=True)\n",
      ")\n"
     ]
    }
   ],
   "source": [
    "batch_size = 1\n",
    "n_epochs = 1000\n",
    "n_iter = 10000\n",
    "\n",
    "model = MyModel(3, 1)\n",
    "optim = torch.optim.SGD(model.parameters(), lr =0.0001, momentum=0.1)\n",
    "\n",
    "print(model)"
   ]
  },
  {
   "cell_type": "markdown",
   "metadata": {},
   "source": [
    "평균 손실값이 0.001보다 작아질 때까지 훈련시키기"
   ]
  },
  {
   "cell_type": "code",
   "execution_count": 37,
   "metadata": {},
   "outputs": [
    {
     "name": "stdout",
     "output_type": "stream",
     "text": [
      "tensor(2.2635e-05) tensor(0.9000) tensor(0.8657)\n"
     ]
    }
   ],
   "source": [
    "for epoch in range(n_epochs):\n",
    "    avg_loss = 0\n",
    "    \n",
    "    for i in range(n_iter):\n",
    "        x = torch.rand(batch_size, 3)\n",
    "        y = ground_truth(x.data)\n",
    "        \n",
    "        loss = train(model, x, y ,optim)\n",
    "        \n",
    "        avg_loss +=loss\n",
    "        avg_loss = avg_loss/n_iter\n",
    "    \n",
    "    x_valid = torch.FloatTensor([[.3, .2, .1]])\n",
    "    y_valid = ground_truth(x_valid.data)\n",
    "    \n",
    "    model.eval()\n",
    "    y_hat = model(x_valid)\n",
    "    model.train()\n",
    "    \n",
    "    print(avg_loss, y_valid.data[0], y_hat.data[0, 0])\n",
    "    \n",
    "    if avg_loss < .001:\n",
    "        break"
   ]
  },
  {
   "cell_type": "code",
   "execution_count": null,
   "metadata": {},
   "outputs": [],
   "source": []
  }
 ],
 "metadata": {
  "kernelspec": {
   "display_name": "Python 3",
   "language": "python",
   "name": "python3"
  },
  "language_info": {
   "codemirror_mode": {
    "name": "ipython",
    "version": 3
   },
   "file_extension": ".py",
   "mimetype": "text/x-python",
   "name": "python",
   "nbconvert_exporter": "python",
   "pygments_lexer": "ipython3",
   "version": "3.7.4"
  }
 },
 "nbformat": 4,
 "nbformat_minor": 2
}
